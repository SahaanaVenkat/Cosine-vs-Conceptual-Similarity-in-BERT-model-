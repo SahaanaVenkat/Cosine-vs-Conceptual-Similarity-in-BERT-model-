{
 "cells": [
  {
   "cell_type": "code",
   "execution_count": 1,
   "metadata": {},
   "outputs": [
    {
     "name": "stderr",
     "output_type": "stream",
     "text": [
      "c:\\Users\\Sahaana Venkat\\OneDrive\\Desktop\\Worshop_march_2024\\workshop\\Lib\\site-packages\\tqdm\\auto.py:21: TqdmWarning: IProgress not found. Please update jupyter and ipywidgets. See https://ipywidgets.readthedocs.io/en/stable/user_install.html\n",
      "  from .autonotebook import tqdm as notebook_tqdm\n"
     ]
    }
   ],
   "source": [
    "from sentence_transformers import SentenceTransformer, util\n",
    "import pandas as pd\n",
    "import torch"
   ]
  },
  {
   "cell_type": "code",
   "execution_count": 2,
   "metadata": {},
   "outputs": [],
   "source": [
    "data_for_recommendation = [\n",
    "    {\"text\": \"how to maintain health\", \"label\": 0},\n",
    "    {\"text\": \"how to protect health\", \"label\": 1},\n",
    "    {\"text\": \"factors affecting health\", \"label\": 2},\n",
    "    {\"text\": \"bad factors for health\", \"label\": 3},\n",
    "    {\"text\": \"good factors for health\", \"label\": 4},\n",
    "    {\"text\": \"preventing shutdown in health\", \"label\": 5},\n",
    "    {\"text\": \"optimizing health performance\", \"label\": 6},\n",
    "    {\"text\": \"extending lifespan in health\", \"label\": 7},\n",
    "    {\"text\": \"enhancing health efficiency\", \"label\": 8},\n",
    "    {\"text\": \"key parameters to monitor in health\", \"label\": 9}]"
   ]
  },
  {
   "cell_type": "code",
   "execution_count": 3,
   "metadata": {},
   "outputs": [],
   "source": [
    "### Conceptual similarity"
   ]
  },
  {
   "cell_type": "code",
   "execution_count": 4,
   "metadata": {},
   "outputs": [
    {
     "name": "stderr",
     "output_type": "stream",
     "text": [
      "modules.json: 100%|██████████| 229/229 [00:00<00:00, 212kB/s]\n",
      "c:\\Users\\Sahaana Venkat\\OneDrive\\Desktop\\Worshop_march_2024\\workshop\\Lib\\site-packages\\huggingface_hub\\file_download.py:149: UserWarning: `huggingface_hub` cache-system uses symlinks by default to efficiently store duplicated files but your machine does not support them in C:\\Users\\Sahaana Venkat\\.cache\\huggingface\\hub\\models--sentence-transformers--paraphrase-MiniLM-L6-v2. Caching files will still work but in a degraded version that might require more space on your disk. This warning can be disabled by setting the `HF_HUB_DISABLE_SYMLINKS_WARNING` environment variable. For more details, see https://huggingface.co/docs/huggingface_hub/how-to-cache#limitations.\n",
      "To support symlinks on Windows, you either need to activate Developer Mode or to run Python as an administrator. In order to see activate developer mode, see this article: https://docs.microsoft.com/en-us/windows/apps/get-started/enable-your-device-for-development\n",
      "  warnings.warn(message)\n",
      "config_sentence_transformers.json: 100%|██████████| 122/122 [00:00<?, ?B/s] \n",
      "README.md: 100%|██████████| 3.73k/3.73k [00:00<?, ?B/s]\n",
      "sentence_bert_config.json: 100%|██████████| 53.0/53.0 [00:00<00:00, 53.1kB/s]\n",
      "config.json: 100%|██████████| 629/629 [00:00<?, ?B/s] \n",
      "pytorch_model.bin: 100%|██████████| 90.9M/90.9M [00:15<00:00, 6.03MB/s]\n",
      "tokenizer_config.json: 100%|██████████| 314/314 [00:00<?, ?B/s] \n",
      "vocab.txt: 100%|██████████| 232k/232k [00:00<00:00, 517kB/s]\n",
      "tokenizer.json: 100%|██████████| 466k/466k [00:00<00:00, 730kB/s]\n",
      "special_tokens_map.json: 100%|██████████| 112/112 [00:00<?, ?B/s] \n",
      "1_Pooling/config.json: 100%|██████████| 190/190 [00:00<00:00, 191kB/s]\n"
     ]
    }
   ],
   "source": [
    "# Load a pre-trained BERT model\n",
    "model = SentenceTransformer('paraphrase-MiniLM-L6-v2')\n",
    "df = pd.DataFrame(data_for_recommendation)\n",
    "\n",
    "# Embed the texts\n",
    "embeddings = model.encode(df['text'], convert_to_tensor=True)"
   ]
  },
  {
   "cell_type": "code",
   "execution_count": 5,
   "metadata": {},
   "outputs": [],
   "source": [
    "# Function to calculate similarity\n",
    "def calculate_similarity(query, embeddings):\n",
    "    query_embedding = model.encode(query, convert_to_tensor=True)\n",
    "    cos_scores = util.pytorch_cos_sim(query_embedding, embeddings)[0]\n",
    "    return cos_scores"
   ]
  },
  {
   "cell_type": "code",
   "execution_count": 6,
   "metadata": {},
   "outputs": [],
   "source": [
    "# Example: Find similar texts for a given query\n",
    "def input_text_model(input_text):\n",
    "    \"\"\"_summary_\n",
    "\n",
    "    Args:\n",
    "        input_text (_type_): _description_\n",
    "\n",
    "    Returns:\n",
    "        _type_: _description_\n",
    "    \"\"\"\n",
    "    \n",
    "    input_sentence_processed = ''.join([i for i in input_text if not i.isdigit()])\n",
    "    query = input_sentence_processed\n",
    "    query_similarity = calculate_similarity(query, embeddings)\n",
    "    top_n = 10\n",
    "# Convert PyTorch tensor to a NumPy array and move to CPU if necessary\n",
    "    top_indices = query_similarity.argsort().cpu().numpy()[-top_n:]\n",
    "    similar_texts = df.loc[top_indices, 'label'].tolist()\n",
    "    label=similar_texts[-1]\n",
    "    return label"
   ]
  },
  {
   "cell_type": "code",
   "execution_count": 7,
   "metadata": {},
   "outputs": [
    {
     "name": "stdout",
     "output_type": "stream",
     "text": [
      "0\n"
     ]
    }
   ],
   "source": [
    "label=input_text_model(\"Tips for preserving health?\")\n",
    "print(label)"
   ]
  },
  {
   "cell_type": "code",
   "execution_count": 8,
   "metadata": {},
   "outputs": [],
   "source": [
    "#### Cosine similarity"
   ]
  },
  {
   "cell_type": "code",
   "execution_count": 10,
   "metadata": {},
   "outputs": [
    {
     "name": "stderr",
     "output_type": "stream",
     "text": [
      "Some weights of BertForSequenceClassification were not initialized from the model checkpoint at bert-base-uncased and are newly initialized: ['classifier.bias', 'classifier.weight']\n",
      "You should probably TRAIN this model on a down-stream task to be able to use it for predictions and inference.\n"
     ]
    },
    {
     "name": "stdout",
     "output_type": "stream",
     "text": [
      "6\n"
     ]
    }
   ],
   "source": [
    "from transformers import BertTokenizer, BertForSequenceClassification\n",
    "from sklearn.metrics.pairwise import cosine_similarity\n",
    "import torch\n",
    "import numpy as np\n",
    "\n",
    "\n",
    "# Load BERT model and tokenizer\n",
    "model = BertForSequenceClassification.from_pretrained(\"bert-base-uncased\", num_labels=2)\n",
    "tokenizer = BertTokenizer.from_pretrained(\"bert-base-uncased\")\n",
    "\n",
    "# Tokenize and encode the dataset for recommendation function only\n",
    "tokenized_data_recommendation = tokenizer(\n",
    "    [item[\"text\"] for item in data_for_recommendation],\n",
    "    padding=True,\n",
    "    truncation=True,\n",
    "    return_tensors=\"pt\"\n",
    ")\n",
    "\n",
    "def input_text_model(input_text):\n",
    "    \"\"\"Predict label for input text\"\"\"\n",
    "    # Process input text\n",
    "      \n",
    "    # Tokenize the input sentence\n",
    "    tokenized_input = tokenizer(\n",
    "        input_text,\n",
    "        padding=True,\n",
    "        truncation=True,\n",
    "        return_tensors=\"pt\"\n",
    "    )\n",
    "    \n",
    "    # Get the embeddings for the input sentence\n",
    "    with torch.no_grad():\n",
    "        model_output = model(**tokenized_input)\n",
    "        input_embeddings = model_output.logits.detach().numpy()\n",
    "    \n",
    "    # Get the embeddings for sentences in both datasets\n",
    "    embeddings_recommendation = model(**tokenized_data_recommendation).logits.detach().numpy()\n",
    "\n",
    "    # Calculate cosine similarity\n",
    "    similarity_recommendation = cosine_similarity(input_embeddings, embeddings_recommendation)\n",
    "\n",
    "    # Determine the label based on higher cosine similarity\n",
    "    most_similar_index_recommendation = np.argmax(similarity_recommendation)\n",
    "    label_recommendation = data_for_recommendation[most_similar_index_recommendation][\"label\"]\n",
    "    return label_recommendation\n",
    "\n",
    "# Sample usage\n",
    "\n",
    "label = input_text_model(\"Tips for preserving health?\")\n",
    "print(label)\n"
   ]
  }
 ],
 "metadata": {
  "kernelspec": {
   "display_name": "amazon",
   "language": "python",
   "name": "python3"
  },
  "language_info": {
   "codemirror_mode": {
    "name": "ipython",
    "version": 3
   },
   "file_extension": ".py",
   "mimetype": "text/x-python",
   "name": "python",
   "nbconvert_exporter": "python",
   "pygments_lexer": "ipython3",
   "version": "3.11.0"
  },
  "orig_nbformat": 4
 },
 "nbformat": 4,
 "nbformat_minor": 2
}
